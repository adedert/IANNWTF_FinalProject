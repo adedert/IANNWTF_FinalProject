{
  "nbformat": 4,
  "nbformat_minor": 0,
  "metadata": {
    "colab": {
      "provenance": [],
      "gpuType": "T4",
      "authorship_tag": "ABX9TyNk91ESoRoi/EpDv5GbHzxq",
      "include_colab_link": true
    },
    "kernelspec": {
      "name": "python3",
      "display_name": "Python 3"
    },
    "language_info": {
      "name": "python"
    },
    "accelerator": "GPU"
  },
  "cells": [
    {
      "cell_type": "markdown",
      "metadata": {
        "id": "view-in-github",
        "colab_type": "text"
      },
      "source": [
        "<a href=\"https://colab.research.google.com/github/adedert/IANNWTF_FinalProject/blob/main/Lunar_Lander.ipynb\" target=\"_parent\"><img src=\"https://colab.research.google.com/assets/colab-badge.svg\" alt=\"Open In Colab\"/></a>"
      ]
    },
    {
      "cell_type": "code",
      "source": [
        "!pip install swig\n",
        "!pip install gymnasium[box2d]"
      ],
      "metadata": {
        "colab": {
          "base_uri": "https://localhost:8080/"
        },
        "id": "OFwIrmmcPPnX",
        "outputId": "23cf52f1-6cc4-4b5f-900a-9584aabba06d"
      },
      "execution_count": 1,
      "outputs": [
        {
          "output_type": "stream",
          "name": "stdout",
          "text": [
            "Collecting swig\n",
            "  Downloading swig-4.2.1-py2.py3-none-manylinux_2_5_x86_64.manylinux1_x86_64.whl (1.9 MB)\n",
            "\u001b[?25l     \u001b[90m━━━━━━━━━━━━━━━━━━━━━━━━━━━━━━━━━━━━━━━━\u001b[0m \u001b[32m0.0/1.9 MB\u001b[0m \u001b[31m?\u001b[0m eta \u001b[36m-:--:--\u001b[0m\r\u001b[2K     \u001b[91m━━━━━━━━━━━━━━━━━━━\u001b[0m\u001b[91m╸\u001b[0m\u001b[90m━━━━━━━━━━━━━━━━━━━━\u001b[0m \u001b[32m0.9/1.9 MB\u001b[0m \u001b[31m27.1 MB/s\u001b[0m eta \u001b[36m0:00:01\u001b[0m\r\u001b[2K     \u001b[90m━━━━━━━━━━━━━━━━━━━━━━━━━━━━━━━━━━━━━━━━\u001b[0m \u001b[32m1.9/1.9 MB\u001b[0m \u001b[31m30.2 MB/s\u001b[0m eta \u001b[36m0:00:00\u001b[0m\n",
            "\u001b[?25hInstalling collected packages: swig\n",
            "Successfully installed swig-4.2.1\n",
            "Collecting gymnasium[box2d]\n",
            "  Downloading gymnasium-0.29.1-py3-none-any.whl (953 kB)\n",
            "\u001b[2K     \u001b[90m━━━━━━━━━━━━━━━━━━━━━━━━━━━━━━━━━━━━━━━━\u001b[0m \u001b[32m953.9/953.9 kB\u001b[0m \u001b[31m12.7 MB/s\u001b[0m eta \u001b[36m0:00:00\u001b[0m\n",
            "\u001b[?25hRequirement already satisfied: numpy>=1.21.0 in /usr/local/lib/python3.10/dist-packages (from gymnasium[box2d]) (1.25.2)\n",
            "Requirement already satisfied: cloudpickle>=1.2.0 in /usr/local/lib/python3.10/dist-packages (from gymnasium[box2d]) (2.2.1)\n",
            "Requirement already satisfied: typing-extensions>=4.3.0 in /usr/local/lib/python3.10/dist-packages (from gymnasium[box2d]) (4.10.0)\n",
            "Collecting farama-notifications>=0.0.1 (from gymnasium[box2d])\n",
            "  Downloading Farama_Notifications-0.0.4-py3-none-any.whl (2.5 kB)\n",
            "Collecting box2d-py==2.3.5 (from gymnasium[box2d])\n",
            "  Downloading box2d-py-2.3.5.tar.gz (374 kB)\n",
            "\u001b[2K     \u001b[90m━━━━━━━━━━━━━━━━━━━━━━━━━━━━━━━━━━━━━━━━\u001b[0m \u001b[32m374.4/374.4 kB\u001b[0m \u001b[31m35.4 MB/s\u001b[0m eta \u001b[36m0:00:00\u001b[0m\n",
            "\u001b[?25h  Preparing metadata (setup.py) ... \u001b[?25l\u001b[?25hdone\n",
            "Requirement already satisfied: pygame>=2.1.3 in /usr/local/lib/python3.10/dist-packages (from gymnasium[box2d]) (2.5.2)\n",
            "Requirement already satisfied: swig==4.* in /usr/local/lib/python3.10/dist-packages (from gymnasium[box2d]) (4.2.1)\n",
            "Building wheels for collected packages: box2d-py\n",
            "  Building wheel for box2d-py (setup.py) ... \u001b[?25l\u001b[?25hdone\n",
            "  Created wheel for box2d-py: filename=box2d_py-2.3.5-cp310-cp310-linux_x86_64.whl size=2376101 sha256=e977bd1f3f7b7141b712028e3e8e4f37835c327ea039e025e1a6f650589674be\n",
            "  Stored in directory: /root/.cache/pip/wheels/db/8f/6a/eaaadf056fba10a98d986f6dce954e6201ba3126926fc5ad9e\n",
            "Successfully built box2d-py\n",
            "Installing collected packages: farama-notifications, box2d-py, gymnasium\n",
            "Successfully installed box2d-py-2.3.5 farama-notifications-0.0.4 gymnasium-0.29.1\n"
          ]
        }
      ]
    },
    {
      "cell_type": "code",
      "execution_count": 2,
      "metadata": {
        "colab": {
          "base_uri": "https://localhost:8080/"
        },
        "id": "Bjoc55ylIQSc",
        "outputId": "d879acc1-5f15-48a8-882a-d573e7204976"
      },
      "outputs": [
        {
          "output_type": "stream",
          "name": "stdout",
          "text": [
            "Mounted at /content/drive\n"
          ]
        }
      ],
      "source": [
        "import gymnasium as gym\n",
        "import numpy as np\n",
        "from collections import namedtuple, deque\n",
        "import random\n",
        "import pickle\n",
        "from google.colab import drive\n",
        "drive.mount('/content/drive')\n",
        "\n",
        "import tensorflow as tf\n",
        "from tensorflow.keras.losses import MSE\n",
        "from tensorflow.keras.optimizers import Adam"
      ]
    },
    {
      "cell_type": "code",
      "source": [
        "class DQN(tf.keras.Model):\n",
        "  def __init__(self, num_actions, lr=0.001):\n",
        "    super().__init__()\n",
        "\n",
        "    self.fc1 = tf.keras.layers.Dense(64, activation=\"relu\")\n",
        "    self.fc2 = tf.keras.layers.Dense(64, activation=\"relu\")\n",
        "    self.out = tf.keras.layers.Dense(num_actions)\n",
        "\n",
        "    self.metrics_list = [tf.keras.metrics.Mean(name=\"loss\")]\n",
        "    self.lr = lr\n",
        "\n",
        "    self.optimizer = tf.keras.optimizers.Adam(self.lr)\n",
        "\n",
        "  @property\n",
        "  def metrics(self):\n",
        "      return self.metrics_list\n",
        "\n",
        "  def reset_metrics(self):\n",
        "      for metric in self.metrics:\n",
        "          metric.reset_state()\n",
        "\n",
        "  def call(self, input):\n",
        "    x = self.fc1(input)\n",
        "    x = self.fc2(x)\n",
        "    x = self.out(x)\n",
        "    return x"
      ],
      "metadata": {
        "id": "gStF-PypJ6Rl"
      },
      "execution_count": 3,
      "outputs": []
    },
    {
      "cell_type": "code",
      "source": [
        "class dqn_agent():\n",
        "  def __init__(self, env_name, erp_size, tau, gamma, learning_rate, double_q, eps_min=0.01, eps_decay=0.99):\n",
        "    self.env = gym.make(env_name)\n",
        "    self.num_actions = self.env.action_space.n\n",
        "    self.state_shape = self.env.observation_space.shape\n",
        "    self.erp = deque(maxlen=erp_size)\n",
        "    self.tau = tau\n",
        "    self.gamma = gamma\n",
        "    self.epsilon = 1.0\n",
        "    self.eps_min = eps_min\n",
        "    self.eps_decay = eps_decay\n",
        "    self.double_q = double_q\n",
        "    self.online_network = DQN(self.num_actions, learning_rate)\n",
        "    self.target_network = DQN(self.num_actions, learning_rate)\n",
        "\n",
        "    self.online_network(tf.random.uniform(shape=(1,8)))\n",
        "    self.target_network(tf.random.uniform(shape=(1,8)))\n",
        "\n",
        "  def get_experiences(self):\n",
        "    experiences = random.sample(self.erp, k=64)\n",
        "    states = tf.convert_to_tensor(np.array([e.state for e in experiences if e is not None]),dtype=tf.float32)\n",
        "    actions = tf.convert_to_tensor(np.array([e.action for e in experiences if e is not None]), dtype=tf.float32)\n",
        "    rewards = tf.convert_to_tensor(np.array([e.reward for e in experiences if e is not None]), dtype=tf.float32)\n",
        "    next_states = tf.convert_to_tensor(np.array([e.next_state for e in experiences if e is not None]),dtype=tf.float32)\n",
        "    done_vals = tf.convert_to_tensor(np.array([e.done for e in experiences if e is not None]).astype(np.uint8),\n",
        "                                     dtype=tf.float32)\n",
        "    return (states, actions, rewards, next_states, done_vals)\n",
        "\n",
        "  def get_action(self, q_values, epsilon=0):\n",
        "    if random.random() > epsilon:\n",
        "      return np.argmax(q_values.numpy()[0])\n",
        "    else:\n",
        "      return random.choice(np.arange(4))\n",
        "\n",
        "  def compute_loss(self, experiences):\n",
        "    states, actions, rewards, next_states, done_vals = experiences\n",
        "    if self.double_q:\n",
        "      best_actions = tf.argmax(self.online_network(next_states), axis=1)\n",
        "      #predict q_vals for next state with target network\n",
        "      q_vals = self.target_network(next_states)\n",
        "      eval_q = tf.gather_nd(q_vals, tf.stack([tf.range(best_actions.shape[0]), tf.cast(best_actions, tf.int32)], axis=1))\n",
        "      y_targets = rewards + (self.gamma * eval_q * (1-done_vals))\n",
        "    else:\n",
        "      max_qsa = tf.reduce_max(self.target_network(next_states), axis=-1)\n",
        "      y_targets = rewards + (self.gamma * max_qsa * (1-done_vals))\n",
        "    q_values = self.online_network(states)\n",
        "    q_values = tf.gather_nd(q_values, tf.stack([tf.range(q_values.shape[0]), tf.cast(actions, tf.int32)], axis=1))\n",
        "    loss = MSE(y_targets, q_values)\n",
        "\n",
        "    return loss\n",
        "\n",
        "  @tf.function\n",
        "  def agent_learn(self, experiences):\n",
        "    with tf.GradientTape() as tape:\n",
        "      loss = self.compute_loss(experiences)\n",
        "    gradients = tape.gradient(loss, self.online_network.trainable_variables)\n",
        "    self.online_network.optimizer.apply_gradients(zip(gradients, self.online_network.trainable_variables))\n",
        "    self.polyak_average()\n",
        "\n",
        "  def polyak_average(self):\n",
        "    for target_weights, q_network_weights in zip(self.target_network.weights, self.online_network.weights):\n",
        "      target_weights.assign((1-self.tau) * q_network_weights + self.tau * target_weights)\n",
        "\n",
        "  def check_update_conditions(self, j, steps_per_update):\n",
        "    if(j+1) % steps_per_update == 0 and len(self.erp) > 64:\n",
        "      return True\n",
        "    else:\n",
        "      return False\n",
        "\n",
        "  def get_new_epsilon(self):\n",
        "    return max(self.eps_min, self.eps_decay * self.epsilon)\n",
        "\n",
        "  def train(self, num_epochs=2000, max_steps_per_iter=1000, erp_size=100000, steps_per_update=4):\n",
        "\n",
        "    self.target_network.set_weights(self.online_network.get_weights())\n",
        "    experience = namedtuple(\"Experience\", field_names=[\"state\", \"action\", \"reward\", \"next_state\", \"done\"])\n",
        "    points_history = []\n",
        "    solved = False\n",
        "\n",
        "    for i in range(num_epochs):\n",
        "\n",
        "      state, _ = self.env.reset()\n",
        "      total_points = 0\n",
        "\n",
        "      for j in range(max_steps_per_iter):\n",
        "\n",
        "        state_qn = np.expand_dims(state, axis=0)\n",
        "        q_values = self.online_network(state_qn)\n",
        "        action = self.get_action(q_values, self.epsilon)\n",
        "        next_state, reward, done, _, _ = self.env.step(action)\n",
        "\n",
        "        self.erp.append(experience(state, action, reward, next_state, done))\n",
        "\n",
        "        update = self.check_update_conditions(j, steps_per_update)\n",
        "\n",
        "        if update:\n",
        "          experiences = self.get_experiences()\n",
        "          self.agent_learn(experiences)\n",
        "\n",
        "        state = next_state.copy()\n",
        "        total_points += reward\n",
        "\n",
        "        if done:\n",
        "          break\n",
        "\n",
        "      points_history.append(total_points)\n",
        "      avg_points = np.mean(points_history[-100:])\n",
        "\n",
        "      self.epsilon = self.get_new_epsilon()\n",
        "\n",
        "      print(f\"\\rEpisode {i+1} | Total point average of the last {100} episodes: {avg_points:.2f}\", end=\"\")\n",
        "\n",
        "      if (i+1) % 100 == 0:\n",
        "          print(f\"\\rEpisode {i+1} | Total point average of the last {100} episodes: {avg_points:.2f}\")\n",
        "          if self.double_q:\n",
        "            self.online_network.save_weights('/content/drive/MyDrive/Lunar Lander/checkpoints/double_dqn_checkpoint' + str(i+1))\n",
        "          else:\n",
        "            self.online_network.save_weights('/content/drive/MyDrive/Lunar Lander/checkpoints/dqn_checkpoint' + str(i+1))\n",
        "\n",
        "      if not solved:\n",
        "        if(avg_points >= 200):\n",
        "          print(f\"Environment solved in {i+1} episodes!\")\n",
        "          solved = True\n",
        "          if self.double_q:\n",
        "            self.online_network.save_weights('/content/drive/MyDrive/Lunar Lander/checkpoints/double_dqn_checkpoint_200')\n",
        "          else:\n",
        "            self.online_network.save_weights('/content/drive/MyDrive/Lunar Lander/checkpoints/dqn_checkpoint_200')\n",
        "      if(avg_points >= 250):\n",
        "        if self.double_q:\n",
        "          self.online_network.save_weights('/content/drive/MyDrive/Lunar Lander/checkpoints/double_dqn_checkpoint_250')\n",
        "          with open('/content/drive/MyDrive/Lunar Lander/double_dqn_rewards.pkl', 'wb') as f:  # open a text file\n",
        "            pickle.dump(points_history, f)\n",
        "        else:\n",
        "          self.online_network.save_weights('/content/drive/MyDrive/Lunar Lander/checkpoints/dqn_checkpoint_250')\n",
        "          with open('/content/drive/MyDrive/Lunar Lander/dqn_rewards.pkl', 'wb') as f:  # open a text file\n",
        "            pickle.dump(points_history, f)\n",
        "        break\n",
        "\n"
      ],
      "metadata": {
        "id": "CsDUiYK2JGNv"
      },
      "execution_count": 4,
      "outputs": []
    },
    {
      "cell_type": "code",
      "source": [
        "agent = dqn_agent(env_name=\"LunarLander-v2\", erp_size=100000, tau=0.999, gamma=0.99, learning_rate=0.001, double_q=False, eps_min=0.01, eps_decay=0.99)\n",
        "agent.train()"
      ],
      "metadata": {
        "colab": {
          "base_uri": "https://localhost:8080/"
        },
        "id": "lVybzMkqxjcx",
        "outputId": "4bf5f0fa-cc74-456c-d2da-fd869ebc0d3a"
      },
      "execution_count": null,
      "outputs": [
        {
          "output_type": "stream",
          "name": "stdout",
          "text": [
            "Episode 100 | Total point average of the last 100 episodes: -160.14\n",
            "Episode 200 | Total point average of the last 100 episodes: -117.89\n",
            "Episode 300 | Total point average of the last 100 episodes: -44.55\n",
            "Episode 400 | Total point average of the last 100 episodes: -10.47\n",
            "Episode 500 | Total point average of the last 100 episodes: 59.56\n",
            "Episode 600 | Total point average of the last 100 episodes: 150.83\n",
            "Episode 700 | Total point average of the last 100 episodes: 3.57\n",
            "Episode 800 | Total point average of the last 100 episodes: 97.11\n",
            "Episode 864 | Total point average of the last 100 episodes: 202.66Environment solved in 864 episodes!\n",
            "Episode 900 | Total point average of the last 100 episodes: 226.77\n",
            "Episode 1000 | Total point average of the last 100 episodes: 243.79\n",
            "Episode 1047 | Total point average of the last 100 episodes: 252.81"
          ]
        }
      ]
    },
    {
      "cell_type": "code",
      "source": [
        "agent = dqn_agent(env_name=\"LunarLander-v2\", erp_size=100000, tau=0.999, gamma=0.99, learning_rate=0.001, double_q=True, eps_min=0.01, eps_decay=0.99)\n",
        "agent.train()"
      ],
      "metadata": {
        "colab": {
          "base_uri": "https://localhost:8080/"
        },
        "id": "NN3tWS6XJGJ8",
        "outputId": "5fa06fd2-0597-42dc-ba20-e16efe6930c1"
      },
      "execution_count": 5,
      "outputs": [
        {
          "output_type": "stream",
          "name": "stdout",
          "text": [
            "Episode 100 | Total point average of the last 100 episodes: -145.68\n",
            "Episode 200 | Total point average of the last 100 episodes: -99.65\n",
            "Episode 300 | Total point average of the last 100 episodes: -46.28\n",
            "Episode 400 | Total point average of the last 100 episodes: 73.32\n",
            "Episode 500 | Total point average of the last 100 episodes: 186.15\n",
            "Episode 541 | Total point average of the last 100 episodes: 200.26Environment solved in 541 episodes!\n",
            "Episode 600 | Total point average of the last 100 episodes: 217.17\n",
            "Episode 674 | Total point average of the last 100 episodes: 250.19"
          ]
        }
      ]
    },
    {
      "cell_type": "code",
      "source": [
        "with open('/content/drive/MyDrive/Lunar Lander/dqn_rewards.pkl', 'rb') as f:  # open a text file\n",
        "  dqn_rewards = pickle.load(f)\n",
        "with open('/content/drive/MyDrive/Lunar Lander/double_dqn_rewards.pkl', 'rb') as f:  # open a text file\n",
        "  double_dqn_rewards = pickle.load(f)"
      ],
      "metadata": {
        "id": "78Mz8nvVqra2"
      },
      "execution_count": 6,
      "outputs": []
    },
    {
      "cell_type": "code",
      "source": [
        "import matplotlib.pyplot as plt\n",
        "running_reward = []\n",
        "for i in range(len(dqn_rewards)):\n",
        "  running_reward.append(np.mean(dqn_rewards[i-100:i]))\n",
        "running_mean = np.convolve(dqn_rewards, np.ones(100)/100, mode='valid')\n",
        "plt.plot(dqn_rewards)\n",
        "plt.plot(running_reward)"
      ],
      "metadata": {
        "colab": {
          "base_uri": "https://localhost:8080/",
          "height": 517
        },
        "id": "KOA90VfvsmYV",
        "outputId": "7f785bc7-b935-45af-c4ca-84a4a9a893dc"
      },
      "execution_count": 15,
      "outputs": [
        {
          "output_type": "stream",
          "name": "stderr",
          "text": [
            "/usr/local/lib/python3.10/dist-packages/numpy/core/fromnumeric.py:3504: RuntimeWarning: Mean of empty slice.\n",
            "  return _methods._mean(a, axis=axis, dtype=dtype,\n",
            "/usr/local/lib/python3.10/dist-packages/numpy/core/_methods.py:129: RuntimeWarning: invalid value encountered in scalar divide\n",
            "  ret = ret.dtype.type(ret / rcount)\n"
          ]
        },
        {
          "output_type": "execute_result",
          "data": {
            "text/plain": [
              "[<matplotlib.lines.Line2D at 0x7c1a3ce0e830>]"
            ]
          },
          "metadata": {},
          "execution_count": 15
        },
        {
          "output_type": "display_data",
          "data": {
            "text/plain": [
              "<Figure size 640x480 with 1 Axes>"
            ],
            "image/png": "[encoded data removed]"
          },
          "metadata": {}
        }
      ]
    },
    {
      "cell_type": "code",
      "source": [
        "test = [1, 2, 3]\n",
        "np.mean(test[-100:])"
      ],
      "metadata": {
        "colab": {
          "base_uri": "https://localhost:8080/"
        },
        "id": "QefYXC5hwq10",
        "outputId": "f85dd878-ec5e-4665-b947-d4689cb15af2"
      },
      "execution_count": 23,
      "outputs": [
        {
          "output_type": "execute_result",
          "data": {
            "text/plain": [
              "2.0"
            ]
          },
          "metadata": {},
          "execution_count": 23
        }
      ]
    }
  ]
}